{
 "cells": [
  {
   "cell_type": "code",
   "execution_count": 24,
   "metadata": {
    "collapsed": false
   },
   "outputs": [
    {
     "name": "stderr",
     "output_type": "stream",
     "text": [
      "C:\\Program Files\\Anaconda3\\lib\\site-packages\\sklearn\\ensemble\\weight_boosting.py:29: DeprecationWarning: numpy.core.umath_tests is an internal NumPy module and should not be imported. It will be removed in a future NumPy release.\n",
      "  from numpy.core.umath_tests import inner1d\n"
     ]
    }
   ],
   "source": [
    "import pandas as pd\n",
    "import matplotlib.pyplot as plt\n",
    "import numpy as np\n",
    "from sklearn.ensemble import RandomForestClassifier\n",
    "%matplotlib inline"
   ]
  },
  {
   "cell_type": "code",
   "execution_count": 2,
   "metadata": {
    "collapsed": false
   },
   "outputs": [],
   "source": [
    "train_df=pd.read_csv(\"Dataset/train.csv\")"
   ]
  },
  {
   "cell_type": "code",
   "execution_count": 3,
   "metadata": {
    "collapsed": false
   },
   "outputs": [
    {
     "name": "stdout",
     "output_type": "stream",
     "text": [
      "(1052948, 29)\n",
      "(1052948, 17)\n"
     ]
    }
   ],
   "source": [
    "build_strct=pd.read_csv(\"Dataset/Building_Structure.csv\")\n",
    "build_ownshp=pd.read_csv(\"Dataset/Building_Ownership_Use.csv\")\n",
    "print(build_strct.shape)\n",
    "print(build_ownshp.shape)"
   ]
  },
  {
   "cell_type": "code",
   "execution_count": 4,
   "metadata": {
    "collapsed": false
   },
   "outputs": [
    {
     "name": "stdout",
     "output_type": "stream",
     "text": [
      "(421175, 13)\n"
     ]
    }
   ],
   "source": [
    "test_df=pd.read_csv(\"Dataset/test.csv\")\n",
    "print(test_df.shape)"
   ]
  },
  {
   "cell_type": "code",
   "execution_count": 5,
   "metadata": {
    "collapsed": true
   },
   "outputs": [],
   "source": [
    "train_final=train_df.merge(build_strct,on=['building_id','district_id','vdcmun_id'],how='left')\n",
    "train_final=train_final.merge(build_ownshp,on=['building_id','district_id','vdcmun_id','ward_id'],how='left')"
   ]
  },
  {
   "cell_type": "code",
   "execution_count": 6,
   "metadata": {
    "collapsed": true
   },
   "outputs": [],
   "source": [
    "test_final=test_df.merge(build_strct,on=['building_id','district_id','vdcmun_id'],how='left')\n",
    "test_final=test_final.merge(build_ownshp,on=['building_id','district_id','vdcmun_id','ward_id'],how='left')"
   ]
  },
  {
   "cell_type": "code",
   "execution_count": 7,
   "metadata": {
    "collapsed": true
   },
   "outputs": [],
   "source": [
    "damage_dict={'Grade 5':5,'Grade 4':4,'Grade 3':3,'Grade 2':2,'Grade 1':1}\n",
    "def mapping(n):\n",
    "    return damage_dict[n]\n",
    "df1=map(mapping,train_final['damage_grade'])\n",
    "x=list(df1)\n",
    "train_final['damage_grade']=x"
   ]
  },
  {
   "cell_type": "code",
   "execution_count": 8,
   "metadata": {
    "collapsed": true
   },
   "outputs": [],
   "source": [
    "cols=['height_ft_pre_eq','height_ft_post_eq','has_secondary_use','district_id','has_geotechnical_risk_landslide','vdcmun_id']\n",
    "train_final=train_final.drop(cols,axis=1)\n",
    "test_final=test_final.drop(cols,axis=1)\n"
   ]
  },
  {
   "cell_type": "code",
   "execution_count": 9,
   "metadata": {
    "collapsed": false,
    "scrolled": true
   },
   "outputs": [
    {
     "name": "stdout",
     "output_type": "stream",
     "text": [
      "0.0    409222\n",
      "1.0    189122\n",
      "Name: has_repair_started, dtype: int64\n",
      "1.0     547837\n",
      "0.0      50659\n",
      "2.0      27771\n",
      "3.0       4185\n",
      "4.0        939\n",
      "5.0        262\n",
      "6.0         73\n",
      "7.0         19\n",
      "8.0          9\n",
      "9.0          5\n",
      "11.0         1\n",
      "Name: count_families, dtype: int64\n"
     ]
    }
   ],
   "source": [
    "x1=train_final['has_repair_started'].value_counts()\n",
    "x2=train_final['count_families'].value_counts()\n",
    "print(x1)\n",
    "print(x2)\n",
    "train_final['has_repair_started'].fillna(x1.index[0],inplace=True)\n",
    "train_final['count_families'].fillna(x2.index[0],inplace=True)"
   ]
  },
  {
   "cell_type": "code",
   "execution_count": 10,
   "metadata": {
    "collapsed": true
   },
   "outputs": [],
   "source": [
    "x3=test_final['has_repair_started'].value_counts()\n",
    "#print(x3)\n",
    "test_final['has_repair_started'].fillna(x3.index[0],inplace=True)"
   ]
  },
  {
   "cell_type": "code",
   "execution_count": 11,
   "metadata": {
    "collapsed": false,
    "scrolled": true
   },
   "outputs": [
    {
     "name": "stdout",
     "output_type": "stream",
     "text": [
      "<class 'pandas.core.frame.DataFrame'>\n",
      "Int64Index: 631761 entries, 0 to 631760\n",
      "Data columns (total 47 columns):\n",
      "area_assesed                              631761 non-null object\n",
      "building_id                               631761 non-null object\n",
      "damage_grade                              631761 non-null int64\n",
      "has_geotechnical_risk                     631761 non-null float64\n",
      "has_geotechnical_risk_fault_crack         631761 non-null int64\n",
      "has_geotechnical_risk_flood               631761 non-null int64\n",
      "has_geotechnical_risk_land_settlement     631761 non-null int64\n",
      "has_geotechnical_risk_liquefaction        631761 non-null int64\n",
      "has_geotechnical_risk_other               631761 non-null int64\n",
      "has_geotechnical_risk_rock_fall           631761 non-null int64\n",
      "has_repair_started                        631761 non-null float64\n",
      "ward_id                                   631761 non-null int64\n",
      "count_floors_pre_eq                       631761 non-null int64\n",
      "count_floors_post_eq                      631761 non-null int64\n",
      "age_building                              631761 non-null int64\n",
      "plinth_area_sq_ft                         631761 non-null int64\n",
      "land_surface_condition                    631761 non-null object\n",
      "foundation_type                           631761 non-null object\n",
      "roof_type                                 631761 non-null object\n",
      "ground_floor_type                         631761 non-null object\n",
      "other_floor_type                          631761 non-null object\n",
      "position                                  631761 non-null object\n",
      "plan_configuration                        631761 non-null object\n",
      "has_superstructure_adobe_mud              631761 non-null int64\n",
      "has_superstructure_mud_mortar_stone       631761 non-null int64\n",
      "has_superstructure_stone_flag             631761 non-null int64\n",
      "has_superstructure_cement_mortar_stone    631761 non-null int64\n",
      "has_superstructure_mud_mortar_brick       631761 non-null int64\n",
      "has_superstructure_cement_mortar_brick    631761 non-null int64\n",
      "has_superstructure_timber                 631761 non-null int64\n",
      "has_superstructure_bamboo                 631761 non-null int64\n",
      "has_superstructure_rc_non_engineered      631761 non-null int64\n",
      "has_superstructure_rc_engineered          631761 non-null int64\n",
      "has_superstructure_other                  631761 non-null int64\n",
      "condition_post_eq                         631761 non-null object\n",
      "legal_ownership_status                    631761 non-null object\n",
      "count_families                            631761 non-null float64\n",
      "has_secondary_use_agriculture             631761 non-null int64\n",
      "has_secondary_use_hotel                   631761 non-null int64\n",
      "has_secondary_use_rental                  631761 non-null int64\n",
      "has_secondary_use_institution             631761 non-null int64\n",
      "has_secondary_use_school                  631761 non-null int64\n",
      "has_secondary_use_industry                631761 non-null int64\n",
      "has_secondary_use_health_post             631761 non-null int64\n",
      "has_secondary_use_gov_office              631761 non-null int64\n",
      "has_secondary_use_use_police              631761 non-null int64\n",
      "has_secondary_use_other                   631761 non-null int64\n",
      "dtypes: float64(3), int64(33), object(11)\n",
      "memory usage: 231.4+ MB\n",
      "None\n"
     ]
    }
   ],
   "source": [
    "print(train_final.info())"
   ]
  },
  {
   "cell_type": "code",
   "execution_count": 12,
   "metadata": {
    "collapsed": false,
    "scrolled": true
   },
   "outputs": [
    {
     "name": "stdout",
     "output_type": "stream",
     "text": [
      "<class 'pandas.core.frame.DataFrame'>\n",
      "Int64Index: 421175 entries, 0 to 421174\n",
      "Data columns (total 46 columns):\n",
      "area_assesed                              421175 non-null object\n",
      "building_id                               421175 non-null object\n",
      "has_geotechnical_risk                     421175 non-null float64\n",
      "has_geotechnical_risk_fault_crack         421175 non-null int64\n",
      "has_geotechnical_risk_flood               421175 non-null int64\n",
      "has_geotechnical_risk_land_settlement     421175 non-null int64\n",
      "has_geotechnical_risk_liquefaction        421175 non-null int64\n",
      "has_geotechnical_risk_other               421175 non-null int64\n",
      "has_geotechnical_risk_rock_fall           421175 non-null int64\n",
      "has_repair_started                        421175 non-null float64\n",
      "ward_id                                   421175 non-null int64\n",
      "count_floors_pre_eq                       421175 non-null int64\n",
      "count_floors_post_eq                      421175 non-null int64\n",
      "age_building                              421175 non-null int64\n",
      "plinth_area_sq_ft                         421175 non-null int64\n",
      "land_surface_condition                    421175 non-null object\n",
      "foundation_type                           421175 non-null object\n",
      "roof_type                                 421175 non-null object\n",
      "ground_floor_type                         421175 non-null object\n",
      "other_floor_type                          421175 non-null object\n",
      "position                                  421175 non-null object\n",
      "plan_configuration                        421175 non-null object\n",
      "has_superstructure_adobe_mud              421175 non-null int64\n",
      "has_superstructure_mud_mortar_stone       421175 non-null int64\n",
      "has_superstructure_stone_flag             421175 non-null int64\n",
      "has_superstructure_cement_mortar_stone    421175 non-null int64\n",
      "has_superstructure_mud_mortar_brick       421175 non-null int64\n",
      "has_superstructure_cement_mortar_brick    421175 non-null int64\n",
      "has_superstructure_timber                 421175 non-null int64\n",
      "has_superstructure_bamboo                 421175 non-null int64\n",
      "has_superstructure_rc_non_engineered      421175 non-null int64\n",
      "has_superstructure_rc_engineered          421175 non-null int64\n",
      "has_superstructure_other                  421175 non-null int64\n",
      "condition_post_eq                         421175 non-null object\n",
      "legal_ownership_status                    421175 non-null object\n",
      "count_families                            421175 non-null float64\n",
      "has_secondary_use_agriculture             421175 non-null int64\n",
      "has_secondary_use_hotel                   421175 non-null int64\n",
      "has_secondary_use_rental                  421175 non-null int64\n",
      "has_secondary_use_institution             421175 non-null int64\n",
      "has_secondary_use_school                  421175 non-null int64\n",
      "has_secondary_use_industry                421175 non-null int64\n",
      "has_secondary_use_health_post             421175 non-null int64\n",
      "has_secondary_use_gov_office              421175 non-null int64\n",
      "has_secondary_use_use_police              421175 non-null int64\n",
      "has_secondary_use_other                   421175 non-null int64\n",
      "dtypes: float64(3), int64(32), object(11)\n",
      "memory usage: 151.0+ MB\n",
      "None\n"
     ]
    }
   ],
   "source": [
    "print(test_final.info())"
   ]
  },
  {
   "cell_type": "code",
   "execution_count": 13,
   "metadata": {
    "collapsed": true
   },
   "outputs": [],
   "source": [
    "def string_to_onehot(x,data):\n",
    "    for i in range(0,len(x),2):\n",
    "        x1=pd.get_dummies(data[x[i]])\n",
    "        #print(x1.columns)\n",
    "        x2=pd.get_dummies(data[x[i+1]])\n",
    "        #print(x2.columns)\n",
    "        if (i==0):\n",
    "            q=pd.concat([data,x1,x2],axis=1)\n",
    "            #print(q.columns)\n",
    "            #print(len(q.columns))\n",
    "        else:\n",
    "            q=pd.concat([q,x1,x2],axis=1)\n",
    "            #print(q.columns)\n",
    "            #print(len(q.columns))\n",
    "    if (i!=len(x)-1):\n",
    "        i+=1\n",
    "        x1=pd.get_dummies(data[x[i]])\n",
    "        q=pd.concat([q,x1],axis=1)\n",
    "    q.drop(x,inplace=True,axis=1)\n",
    "    return q"
   ]
  },
  {
   "cell_type": "code",
   "execution_count": 14,
   "metadata": {
    "collapsed": false,
    "scrolled": true
   },
   "outputs": [
    {
     "name": "stdout",
     "output_type": "stream",
     "text": [
      "(631761, 47)\n",
      "(631761, 92)\n",
      "(421175, 46)\n",
      "(421175, 91)\n"
     ]
    }
   ],
   "source": [
    "x=['land_surface_condition','foundation_type','roof_type','ground_floor_type','other_floor_type','position',                                  \n",
    "'plan_configuration','area_assesed','condition_post_eq','legal_ownership_status']\n",
    "print(train_final.shape)\n",
    "train_final=string_to_onehot(x,train_final)\n",
    "print(train_final.shape)\n",
    "print(test_final.shape)\n",
    "test_final=string_to_onehot(x,test_final)\n",
    "print(test_final.shape)"
   ]
  },
  {
   "cell_type": "code",
   "execution_count": 15,
   "metadata": {
    "collapsed": false,
    "scrolled": true
   },
   "outputs": [
    {
     "name": "stdout",
     "output_type": "stream",
     "text": [
      "   building_id  damage_grade  has_geotechnical_risk  \\\n",
      "0  24385bfd2a2             4                    0.0   \n",
      "1  405d1bbebbf             2                    0.0   \n",
      "2  351d9bc71f6             1                    0.0   \n",
      "3  2be3a971166             5                    0.0   \n",
      "4  34c7d073ea6             3                    0.0   \n",
      "5  1f54965821f             5                    0.0   \n",
      "6  2beb42eaeee             2                    1.0   \n",
      "7  25e8adfd09a             5                    0.0   \n",
      "8  1e96b58fa58             1                    0.0   \n",
      "9  392cbd772c9             3                    0.0   \n",
      "\n",
      "   has_geotechnical_risk_fault_crack  has_geotechnical_risk_flood  \\\n",
      "0                                  0                            0   \n",
      "1                                  0                            0   \n",
      "2                                  0                            0   \n",
      "3                                  0                            0   \n",
      "4                                  0                            0   \n",
      "5                                  0                            0   \n",
      "6                                  0                            0   \n",
      "7                                  0                            0   \n",
      "8                                  0                            0   \n",
      "9                                  0                            0   \n",
      "\n",
      "   has_geotechnical_risk_land_settlement  has_geotechnical_risk_liquefaction  \\\n",
      "0                                      0                                   0   \n",
      "1                                      0                                   0   \n",
      "2                                      0                                   0   \n",
      "3                                      0                                   0   \n",
      "4                                      0                                   0   \n",
      "5                                      0                                   0   \n",
      "6                                      0                                   0   \n",
      "7                                      0                                   0   \n",
      "8                                      0                                   0   \n",
      "9                                      0                                   0   \n",
      "\n",
      "   has_geotechnical_risk_other  has_geotechnical_risk_rock_fall  \\\n",
      "0                            0                                0   \n",
      "1                            0                                0   \n",
      "2                            0                                0   \n",
      "3                            0                                0   \n",
      "4                            0                                0   \n",
      "5                            0                                0   \n",
      "6                            0                                1   \n",
      "7                            0                                0   \n",
      "8                            0                                0   \n",
      "9                            0                                0   \n",
      "\n",
      "   has_repair_started   ...    Damaged-Used in risk  Not damaged  \\\n",
      "0                 0.0   ...                     0.0          0.0   \n",
      "1                 1.0   ...                     0.0          0.0   \n",
      "2                 0.0   ...                     0.0          1.0   \n",
      "3                 0.0   ...                     0.0          0.0   \n",
      "4                 0.0   ...                     1.0          0.0   \n",
      "5                 0.0   ...                     0.0          0.0   \n",
      "6                 0.0   ...                     1.0          0.0   \n",
      "7                 0.0   ...                     0.0          0.0   \n",
      "8                 0.0   ...                     0.0          1.0   \n",
      "9                 1.0   ...                     0.0          0.0   \n",
      "\n",
      "   Institutional  Other  Private  Public  Institutional  Other  Private  \\\n",
      "0            0.0    0.0      1.0     0.0            0.0    0.0      1.0   \n",
      "1            0.0    0.0      1.0     0.0            0.0    0.0      1.0   \n",
      "2            0.0    0.0      1.0     0.0            0.0    0.0      1.0   \n",
      "3            0.0    0.0      1.0     0.0            0.0    0.0      1.0   \n",
      "4            0.0    0.0      1.0     0.0            0.0    0.0      1.0   \n",
      "5            0.0    0.0      1.0     0.0            0.0    0.0      1.0   \n",
      "6            0.0    0.0      0.0     1.0            0.0    0.0      0.0   \n",
      "7            0.0    0.0      1.0     0.0            0.0    0.0      1.0   \n",
      "8            0.0    0.0      1.0     0.0            0.0    0.0      1.0   \n",
      "9            0.0    0.0      1.0     0.0            0.0    0.0      1.0   \n",
      "\n",
      "   Public  \n",
      "0     0.0  \n",
      "1     0.0  \n",
      "2     0.0  \n",
      "3     0.0  \n",
      "4     0.0  \n",
      "5     0.0  \n",
      "6     1.0  \n",
      "7     0.0  \n",
      "8     0.0  \n",
      "9     0.0  \n",
      "\n",
      "[10 rows x 92 columns]\n"
     ]
    }
   ],
   "source": [
    "print(train_final.head(10))"
   ]
  },
  {
   "cell_type": "code",
   "execution_count": 16,
   "metadata": {
    "collapsed": true
   },
   "outputs": [],
   "source": [
    "train_df=train_final.copy()\n",
    "y=train_df['damage_grade']\n",
    "train_df.drop(['damage_grade','building_id'],inplace=True,axis=1)\n",
    "test_df=test_final.copy()\n",
    "test_df.drop(['building_id'],inplace=True,axis=1)"
   ]
  },
  {
   "cell_type": "code",
   "execution_count": 17,
   "metadata": {
    "collapsed": false
   },
   "outputs": [
    {
     "name": "stdout",
     "output_type": "stream",
     "text": [
      "(631761, 90)\n",
      "(421175, 90)\n"
     ]
    }
   ],
   "source": [
    "print(train_df.shape)\n",
    "print(test_df.shape)"
   ]
  },
  {
   "cell_type": "code",
   "execution_count": 18,
   "metadata": {
    "collapsed": true
   },
   "outputs": [],
   "source": [
    "damage_dict2={1:0,2:1,3:2,4:3,5:4}\n",
    "y=y.map(damage_dict2)"
   ]
  },
  {
   "cell_type": "code",
   "execution_count": 19,
   "metadata": {
    "collapsed": true
   },
   "outputs": [],
   "source": [
    "from sklearn.model_selection import train_test_split,cross_val_score\n",
    "train_X,valid_X,train_y,valid_y=train_test_split(train_df,y,test_size=0.1)"
   ]
  },
  {
   "cell_type": "code",
   "execution_count": 20,
   "metadata": {
    "collapsed": false
   },
   "outputs": [
    {
     "name": "stdout",
     "output_type": "stream",
     "text": [
      "(568584, 90)\n"
     ]
    }
   ],
   "source": [
    "print(train_X.shape)"
   ]
  },
  {
   "cell_type": "code",
   "execution_count": 21,
   "metadata": {
    "collapsed": true
   },
   "outputs": [],
   "source": [
    "from sklearn.model_selection import KFold\n",
    "from sklearn.metrics import f1_score\n",
    "def kfold(model,train_X,train_y,variables):\n",
    "    model.fit(train_X,train_y)\n",
    "    predicted=model.predict(train_X)\n",
    "    print(\"the f1 accuracy on the training data is {0}\".format(f1_score(train_y,predicted,average='weighted')))\n",
    "    #kf=KFold(train_X[variables].shape[0],n_splits=10)\n",
    "    kf=KFold(n_splits=10)\n",
    "    f1=[]\n",
    "    count=0;\n",
    "    for train,test in kf.split(train_X):\n",
    "        train_data=train_X[variables].iloc[train,:]\n",
    "        test_data=train_X[variables].iloc[test,:]\n",
    "        y_train=train_y.iloc[train]\n",
    "        y_test=train_y.iloc[test]\n",
    "        model.fit(train_data,y_train)\n",
    "        predictions=model.predict(test_data)\n",
    "        score=f1_score(y_test,predictions,average='weighted')\n",
    "        f1.append(score)\n",
    "        count+=1\n",
    "    print(count)\n",
    "    print(\"the mean f1_score is {0}\".format(np.mean(f1)))"
   ]
  },
  {
   "cell_type": "code",
   "execution_count": 66,
   "metadata": {
    "collapsed": false
   },
   "outputs": [
    {
     "name": "stdout",
     "output_type": "stream",
     "text": [
      "the f1 accuracy on the training data is 0.7836726815256027\n",
      "10\n",
      "the mean f1_score is 0.7419131349980395\n"
     ]
    }
   ],
   "source": [
    "from sklearn.tree import DecisionTreeClassifier\n",
    "clf1=DecisionTreeClassifier(max_depth=20,min_samples_split=30)\n",
    "variables=train_X.columns\n",
    "kfold(clf1,train_X,train_y,variables)"
   ]
  },
  {
   "cell_type": "code",
   "execution_count": 76,
   "metadata": {
    "collapsed": false
   },
   "outputs": [
    {
     "data": {
      "text/plain": [
       "DecisionTreeClassifier(class_weight=None, criterion='gini', max_depth=20,\n",
       "            max_features=None, max_leaf_nodes=None,\n",
       "            min_impurity_decrease=0.0, min_impurity_split=None,\n",
       "            min_samples_leaf=1, min_samples_split=30,\n",
       "            min_weight_fraction_leaf=0.0, presort=False, random_state=None,\n",
       "            splitter='best')"
      ]
     },
     "execution_count": 76,
     "metadata": {},
     "output_type": "execute_result"
    }
   ],
   "source": [
    "clf1.fit(train_X,train_y)"
   ]
  },
  {
   "cell_type": "code",
   "execution_count": 77,
   "metadata": {
    "collapsed": false
   },
   "outputs": [
    {
     "name": "stdout",
     "output_type": "stream",
     "text": [
      "90\n",
      "90\n"
     ]
    }
   ],
   "source": [
    "print(len(variables))\n",
    "print(clf1.n_features_)"
   ]
  },
  {
   "cell_type": "code",
   "execution_count": 67,
   "metadata": {
    "collapsed": false
   },
   "outputs": [
    {
     "name": "stdout",
     "output_type": "stream",
     "text": [
      "the f1 accuracy on the training data is 0.7889399210705352\n",
      "10\n",
      "the mean f1_score is 0.741068671351041\n"
     ]
    }
   ],
   "source": [
    "clf3=DecisionTreeClassifier(max_depth=20,min_samples_split=20)\n",
    "variables=train_X.columns\n",
    "kfold(clf3,train_X,train_y,variables)"
   ]
  },
  {
   "cell_type": "code",
   "execution_count": 27,
   "metadata": {
    "collapsed": true
   },
   "outputs": [],
   "source": [
    "dict2={0:'Grade 1',1:'Grade 2',2:'Grade 3',3:'Grade 4',4:'Grade 5'}"
   ]
  },
  {
   "cell_type": "code",
   "execution_count": 89,
   "metadata": {
    "collapsed": false,
    "scrolled": true
   },
   "outputs": [
    {
     "name": "stdout",
     "output_type": "stream",
     "text": [
      "            damage_grade\n",
      "building_id             \n",
      "a3380c4f75       Grade 2\n",
      "a338a4e653       Grade 5\n",
      "a338a4e6b7       Grade 5\n",
      "a33a6eaa3a       Grade 3\n",
      "a33b073ff6       Grade 5\n",
      "6604e4896c6      Grade 4\n",
      "a33b07430f       Grade 3\n",
      "a33c386cf3       Grade 5\n",
      "a33c386ee7       Grade 2\n",
      "a33c38700f       Grade 4\n",
      "            damage_grade\n",
      "building_id             \n",
      "a3380c4f75       Grade 2\n",
      "a338a4e653       Grade 5\n",
      "a338a4e6b7       Grade 5\n",
      "a33a6eaa3a       Grade 3\n",
      "a33b073ff6       Grade 5\n",
      "6604e4896c6      Grade 4\n",
      "a33b07430f       Grade 3\n",
      "a33c386cf3       Grade 5\n",
      "a33c386ee7       Grade 2\n",
      "a33c38700f       Grade 4\n"
     ]
    }
   ],
   "source": [
    "test_y=clf1.predict(test_df)\n",
    "y=pd.Series(test_y)\n",
    "y=y.map(dict2)\n",
    "build=pd.Series(test_final['building_id'])\n",
    "submit4=pd.concat([build,y],axis=1)\n",
    "submit4.set_index(['building_id'],inplace=True)\n",
    "submit4.columns=['damage_grade']\n",
    "print(submit4.head(10))\n",
    "submit4.to_csv(\"Submission4.csv\")\n",
    "print(submit4.head(10))"
   ]
  },
  {
   "cell_type": "code",
   "execution_count": 81,
   "metadata": {
    "collapsed": false
   },
   "outputs": [
    {
     "name": "stdout",
     "output_type": "stream",
     "text": [
      "   building_id  0\n",
      "0   a3380c4f75  1\n",
      "1   a338a4e653  4\n",
      "2   a338a4e6b7  4\n",
      "3   a33a6eaa3a  2\n",
      "4   a33b073ff6  4\n",
      "5  6604e4896c6  3\n",
      "6   a33b07430f  2\n",
      "7   a33c386cf3  4\n",
      "8   a33c386ee7  1\n",
      "9   a33c38700f  3\n",
      "             0\n",
      "building_id   \n",
      "a3380c4f75   1\n",
      "a338a4e653   4\n",
      "a338a4e6b7   4\n",
      "a33a6eaa3a   2\n",
      "a33b073ff6   4\n",
      "6604e4896c6  3\n",
      "a33b07430f   2\n",
      "a33c386cf3   4\n",
      "a33c386ee7   1\n",
      "a33c38700f   3\n"
     ]
    }
   ],
   "source": [
    "#print(submit4.head(10))\n"
   ]
  },
  {
   "cell_type": "code",
   "execution_count": 68,
   "metadata": {
    "collapsed": false
   },
   "outputs": [
    {
     "name": "stdout",
     "output_type": "stream",
     "text": [
      "the f1 accuracy on the training data is 0.8484931716640074\n",
      "10\n",
      "the mean f1_score is 0.7397654740119444\n"
     ]
    }
   ],
   "source": [
    "clf3=DecisionTreeClassifier(max_depth=30,min_samples_split=20)\n",
    "variables=train_X.columns\n",
    "kfold(clf3,train_X,train_y,variables)"
   ]
  },
  {
   "cell_type": "code",
   "execution_count": 69,
   "metadata": {
    "collapsed": false
   },
   "outputs": [
    {
     "name": "stdout",
     "output_type": "stream",
     "text": [
      "the f1 accuracy on the training data is 0.8592584705386348\n",
      "10\n",
      "the mean f1_score is 0.7379284144709207\n"
     ]
    }
   ],
   "source": [
    "clf3=DecisionTreeClassifier(max_depth=40,min_samples_split=20)\n",
    "variables=train_X.columns\n",
    "kfold(clf3,train_X,train_y,variables)"
   ]
  },
  {
   "cell_type": "code",
   "execution_count": 91,
   "metadata": {
    "collapsed": false
   },
   "outputs": [
    {
     "name": "stdout",
     "output_type": "stream",
     "text": [
      "the f1 accuracy on the training data is 0.7976400324566056\n",
      "10\n",
      "the mean f1_score is 0.7483208227759562\n"
     ]
    }
   ],
   "source": [
    "clf4=DecisionTreeClassifier(max_depth=90,min_samples_split=80)\n",
    "kfold(clf4,train_X,train_y,variables)"
   ]
  },
  {
   "cell_type": "code",
   "execution_count": 103,
   "metadata": {
    "collapsed": false,
    "scrolled": true
   },
   "outputs": [
    {
     "name": "stdout",
     "output_type": "stream",
     "text": [
      "            damage_grade\n",
      "building_id             \n",
      "a3380c4f75       Grade 2\n",
      "a338a4e653       Grade 5\n",
      "a338a4e6b7       Grade 5\n",
      "a33a6eaa3a       Grade 3\n",
      "a33b073ff6       Grade 5\n",
      "6604e4896c6      Grade 4\n",
      "a33b07430f       Grade 3\n",
      "a33c386cf3       Grade 5\n",
      "a33c386ee7       Grade 2\n",
      "a33c38700f       Grade 4\n"
     ]
    }
   ],
   "source": [
    "clf4.fit(train_X,train_y)\n",
    "test_y=clf4.predict(test_df)\n",
    "y=pd.Series(test_y)\n",
    "y=y.map(dict2)\n",
    "build=pd.Series(test_final['building_id'])\n",
    "submit6=pd.concat([build,y],axis=1)\n",
    "submit6.set_index(['building_id'],inplace=True)\n",
    "submit6.columns=['damage_grade']\n",
    "print(submit6.head(10))\n",
    "submit6.to_csv(\"Submission6.csv\")\n",
    "#print(submit6.head(10))"
   ]
  },
  {
   "cell_type": "code",
   "execution_count": 104,
   "metadata": {
    "collapsed": false,
    "scrolled": true
   },
   "outputs": [
    {
     "name": "stdout",
     "output_type": "stream",
     "text": [
      "                      feature_importances\n",
      "count_floors_post_eq             0.537956\n",
      "Not damaged                      0.149394\n",
      "ward_id                          0.110908\n",
      "Damaged-Not used                 0.052174\n",
      "has_repair_started               0.020733\n",
      "plinth_area_sq_ft                0.017132\n",
      "age_building                     0.013675\n",
      "Not applicable                   0.011054\n",
      "RC                               0.010220\n",
      "Damaged-Used in risk             0.008779\n",
      "                                         feature_importances\n",
      "has_secondary_use_school                            0.000011\n",
      "has_secondary_use_use_police                        0.000010\n",
      "Building with Central Courtyard                     0.000009\n",
      "has_secondary_use_gov_office                        0.000004\n",
      "Damaged-Rubble Clear-New building built             0.000000\n",
      "Damaged-Rubble clear                                0.000000\n",
      "Damaged-Rubble unclear                              0.000000\n",
      "E-shape                                             0.000000\n",
      "Covered by landslide                                0.000000\n",
      "H-shape                                             0.000000\n"
     ]
    },
    {
     "data": {
      "text/plain": [
       "<matplotlib.axes._subplots.AxesSubplot at 0x260090f5a90>"
      ]
     },
     "execution_count": 104,
     "metadata": {},
     "output_type": "execute_result"
    },
    {
     "data": {
      "text/plain": [
       "<matplotlib.figure.Figure at 0x2601b3d1630>"
      ]
     },
     "metadata": {},
     "output_type": "display_data"
    },
    {
     "data": {
      "image/png": "[encoded data removed]",
      "text/plain": [
       "<matplotlib.figure.Figure at 0x26032e2b358>"
      ]
     },
     "metadata": {},
     "output_type": "display_data"
    }
   ],
   "source": [
    "coef=pd.DataFrame(clf4.feature_importances_,index=train_X.columns,columns=['feature_importances'])\n",
    "coef.sort_values(by=['feature_importances'],ascending=False,inplace=True)\n",
    "print(coef.head(10))\n",
    "print(coef.tail(10))\n",
    "plt.figure(figsize=(20,5))\n",
    "coef.plot(kind='bar',title='Model_Coefficients',figsize=(15,5))"
   ]
  },
  {
   "cell_type": "code",
   "execution_count": 106,
   "metadata": {
    "collapsed": false
   },
   "outputs": [
    {
     "name": "stdout",
     "output_type": "stream",
     "text": [
      "90\n",
      "84\n"
     ]
    }
   ],
   "source": [
    "x=['E-shape','Covered by landslide','Damaged-Rubble unclear','Damaged-Rubble clear','H-shape',\n",
    "  'Damaged-Rubble Clear-New building built']\n",
    "v=train_X.columns\n",
    "print(len(v))\n",
    "res=[]\n",
    "for cols in v:\n",
    "    if cols not in x:\n",
    "        res.append(cols)\n",
    "print(len(res))"
   ]
  },
  {
   "cell_type": "code",
   "execution_count": 107,
   "metadata": {
    "collapsed": false
   },
   "outputs": [
    {
     "name": "stdout",
     "output_type": "stream",
     "text": [
      "the f1 accuracy on the training data is 0.7976444386489836\n",
      "10\n",
      "the mean f1_score is 0.7483428973783732\n"
     ]
    }
   ],
   "source": [
    "clf4=DecisionTreeClassifier(max_depth=90,min_samples_split=80)\n",
    "kfold(clf4,train_X,train_y,res)"
   ]
  },
  {
   "cell_type": "code",
   "execution_count": 108,
   "metadata": {
    "collapsed": false
   },
   "outputs": [
    {
     "name": "stdout",
     "output_type": "stream",
     "text": [
      "            damage_grade\n",
      "building_id             \n",
      "a3380c4f75       Grade 2\n",
      "a338a4e653       Grade 5\n",
      "a338a4e6b7       Grade 5\n",
      "a33a6eaa3a       Grade 3\n",
      "a33b073ff6       Grade 5\n",
      "6604e4896c6      Grade 4\n",
      "a33b07430f       Grade 3\n",
      "a33c386cf3       Grade 5\n",
      "a33c386ee7       Grade 2\n",
      "a33c38700f       Grade 4\n"
     ]
    }
   ],
   "source": [
    "clf4.fit(train_X[res],train_y)\n",
    "test_y=clf4.predict(test_df[res])\n",
    "y=pd.Series(test_y)\n",
    "y=y.map(dict2)\n",
    "build=pd.Series(test_final['building_id'])\n",
    "submit7=pd.concat([build,y],axis=1)\n",
    "submit7.set_index(['building_id'],inplace=True)\n",
    "submit7.columns=['damage_grade']\n",
    "print(submit7.head(10))\n",
    "submit7.to_csv(\"Submission7.csv\")\n",
    "#print(submit6.head(10))"
   ]
  },
  {
   "cell_type": "code",
   "execution_count": 111,
   "metadata": {
    "collapsed": false
   },
   "outputs": [
    {
     "name": "stdout",
     "output_type": "stream",
     "text": [
      "the f1 accuracy on the training data is 0.38626276145476546\n",
      "10\n",
      "the mean f1_score is 0.3855476925230804\n"
     ]
    }
   ],
   "source": [
    "from sklearn.naive_bayes import GaussianNB\n",
    "clf5=GaussianNB()\n",
    "kfold(clf5,train_X,train_y,variables)"
   ]
  },
  {
   "cell_type": "code",
   "execution_count": 22,
   "metadata": {
    "collapsed": false
   },
   "outputs": [
    {
     "name": "stderr",
     "output_type": "stream",
     "text": [
      "C:\\Program Files\\Anaconda3\\lib\\site-packages\\sklearn\\ensemble\\weight_boosting.py:29: DeprecationWarning: numpy.core.umath_tests is an internal NumPy module and should not be imported. It will be removed in a future NumPy release.\n",
      "  from numpy.core.umath_tests import inner1d\n"
     ]
    },
    {
     "name": "stdout",
     "output_type": "stream",
     "text": [
      "the f1 accuracy on the training data is 0.986632210115387\n",
      "10\n",
      "the mean f1_score is 0.7284312393450588\n"
     ]
    }
   ],
   "source": [
    "from sklearn.ensemble import RandomForestClassifier\n",
    "clf8=RandomForestClassifier()\n",
    "variables=train_X.columns\n",
    "kfold(clf8,train_X,train_y,variables)"
   ]
  },
  {
   "cell_type": "code",
   "execution_count": 23,
   "metadata": {
    "collapsed": false
   },
   "outputs": [
    {
     "name": "stdout",
     "output_type": "stream",
     "text": [
      "the f1 accuracy on the training data is 0.7805297949281189\n",
      "10\n",
      "the mean f1_score is 0.737788621623313\n"
     ]
    }
   ],
   "source": [
    "clf9=RandomForestClassifier(max_depth=90,min_samples_split=80)\n",
    "kfold(clf9,train_X,train_y,variables)"
   ]
  },
  {
   "cell_type": "code",
   "execution_count": 26,
   "metadata": {
    "collapsed": false
   },
   "outputs": [
    {
     "name": "stdout",
     "output_type": "stream",
     "text": [
      "the f1 accuracy on the training data is 0.7855610533522346\n",
      "10\n",
      "the mean f1_score is 0.7402189675518395\n"
     ]
    }
   ],
   "source": [
    "clf10=RandomForestClassifier(n_estimators=20,max_depth=90,min_samples_split=80)\n",
    "kfold(clf10,train_X,train_y,variables)"
   ]
  },
  {
   "cell_type": "code",
   "execution_count": 26,
   "metadata": {
    "collapsed": false
   },
   "outputs": [
    {
     "name": "stdout",
     "output_type": "stream",
     "text": [
      "the f1 accuracy on the training data is 0.8038810032477187\n",
      "10\n",
      "the mean f1_score is 0.7551146345009611\n"
     ]
    },
    {
     "data": {
      "text/plain": [
       "RandomForestClassifier(bootstrap=True, class_weight=None, criterion='gini',\n",
       "            max_depth=90, max_features=40, max_leaf_nodes=None,\n",
       "            min_impurity_decrease=0.0, min_impurity_split=None,\n",
       "            min_samples_leaf=1, min_samples_split=80,\n",
       "            min_weight_fraction_leaf=0.0, n_estimators=20, n_jobs=1,\n",
       "            oob_score=False, random_state=None, verbose=0,\n",
       "            warm_start=False)"
      ]
     },
     "execution_count": 26,
     "metadata": {},
     "output_type": "execute_result"
    }
   ],
   "source": [
    "clf10=RandomForestClassifier(n_estimators=20,max_depth=90,min_samples_split=80,max_features=40)\n",
    "variables=train_X.columns\n",
    "kfold(clf10,train_X,train_y,variables)\n",
    "clf10.fit(train_X,train_y)"
   ]
  },
  {
   "cell_type": "code",
   "execution_count": 28,
   "metadata": {
    "collapsed": false
   },
   "outputs": [
    {
     "name": "stdout",
     "output_type": "stream",
     "text": [
      "            damage_grade\n",
      "building_id             \n",
      "a3380c4f75       Grade 2\n",
      "a338a4e653       Grade 5\n",
      "a338a4e6b7       Grade 5\n",
      "a33a6eaa3a       Grade 3\n",
      "a33b073ff6       Grade 5\n",
      "6604e4896c6      Grade 4\n",
      "a33b07430f       Grade 3\n",
      "a33c386cf3       Grade 5\n",
      "a33c386ee7       Grade 2\n",
      "a33c38700f       Grade 4\n"
     ]
    }
   ],
   "source": [
    "test_y=clf10.predict(test_df)\n",
    "y=pd.Series(test_y)\n",
    "y=y.map(dict2)\n",
    "build=pd.Series(test_final['building_id'])\n",
    "submit8=pd.concat([build,y],axis=1)\n",
    "submit8.set_index(['building_id'],inplace=True)\n",
    "submit8.columns=['damage_grade']\n",
    "print(submit8.head(10))\n",
    "submit8.to_csv(\"Submission8.csv\")"
   ]
  },
  {
   "cell_type": "code",
   "execution_count": null,
   "metadata": {
    "collapsed": false
   },
   "outputs": [],
   "source": []
  },
  {
   "cell_type": "code",
   "execution_count": null,
   "metadata": {
    "collapsed": true
   },
   "outputs": [],
   "source": []
  }
 ],
 "metadata": {
  "anaconda-cloud": {},
  "kernelspec": {
   "display_name": "Python [conda root]",
   "language": "python",
   "name": "conda-root-py"
  },
  "language_info": {
   "codemirror_mode": {
    "name": "ipython",
    "version": 3
   },
   "file_extension": ".py",
   "mimetype": "text/x-python",
   "name": "python",
   "nbconvert_exporter": "python",
   "pygments_lexer": "ipython3",
   "version": "3.5.2"
  }
 },
 "nbformat": 4,
 "nbformat_minor": 1
}
